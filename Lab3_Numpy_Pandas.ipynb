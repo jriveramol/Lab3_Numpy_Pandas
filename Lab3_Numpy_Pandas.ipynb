{
 "cells": [
  {
   "cell_type": "markdown",
   "id": "9f844c45-a682-4681-97ce-70c009f02bb1",
   "metadata": {},
   "source": [
    "# Parte 1: Numpy"
   ]
  },
  {
   "cell_type": "code",
   "execution_count": null,
   "id": "c633dbad-f343-4faf-becb-02c6144d87dd",
   "metadata": {},
   "outputs": [],
   "source": [
    "import numpy as np"
   ]
  },
  {
   "cell_type": "markdown",
   "id": "bc2c2660-ecd1-497a-a247-17498a241c8d",
   "metadata": {
    "jp-MarkdownHeadingCollapsed": true
   },
   "source": [
    "#### 1. ¿Cuál es el tamaño en bytes de un array de 1000 elementos de tipo booleano?"
   ]
  },
  {
   "cell_type": "code",
   "execution_count": null,
   "id": "e5c4fd22-65d1-4372-804a-c19379ecf037",
   "metadata": {},
   "outputs": [],
   "source": [
    "bool_array = np.ones(1000,dtype='bool')\n",
    "size_bytes = bool_array.nbytes\n",
    "print(f\"El tamaño de un array de 1000 elementos tipo bool es: {size_bytes} bytes\")"
   ]
  },
  {
   "cell_type": "markdown",
   "id": "053e332b-dabd-46cc-abf8-a6c4faa3c94c",
   "metadata": {
    "jp-MarkdownHeadingCollapsed": true
   },
   "source": [
    "#### 2. Cree un array cuyos elementos sean los enteros pares en [1,100] y en orden decreciente. Muestre los 10 últimos por pantalla."
   ]
  },
  {
   "cell_type": "code",
   "execution_count": null,
   "id": "6547404d-1694-4adc-a194-714856eb96ce",
   "metadata": {},
   "outputs": [],
   "source": [
    "enteros_pares = np.arange(2,101,2)\n",
    "enteros_pares_dec = enteros_pares[::-1]\n",
    "print(f\"{enteros_pares_dec[-10:] = :}\")"
   ]
  },
  {
   "cell_type": "markdown",
   "id": "9f8e27d7-ce87-4147-983e-96a34ce310fa",
   "metadata": {
    "jp-MarkdownHeadingCollapsed": true
   },
   "source": [
    "#### 3. Dado el array\n",
    "\n",
    "$\\begin{bmatrix}\n",
    "2 & 4 & 5 & 6 \\\\\n",
    "0 & 3 & 7 & 4\\\\\n",
    "8 & 8 & 5 & 2\\\\\n",
    "1 & 5 & 6 & 1\n",
    "\\end{bmatrix}$"
   ]
  },
  {
   "cell_type": "markdown",
   "id": "3b904111-4b9b-4a1d-9e6d-7dabad905703",
   "metadata": {},
   "source": [
    "**Seleccione con una instrucción el subarray de elementos**\n",
    "\n",
    "$\\begin{bmatrix}\n",
    "0 & 3 & 4 & 7 \n",
    "\\end{bmatrix}$"
   ]
  },
  {
   "cell_type": "code",
   "execution_count": null,
   "id": "ab9d19c8-344e-4ff5-810e-02238208e924",
   "metadata": {},
   "outputs": [],
   "source": [
    "ex3_array = np.array([[2,4,5,6],[0,3,7,4],[8,8,5,2],[1,5,6,1]])\n",
    "ex3_1_array = ex3_array[1]\n",
    "ex3_1_array"
   ]
  },
  {
   "cell_type": "markdown",
   "id": "e11ea596-be6b-46bb-84ce-2fa591533d13",
   "metadata": {},
   "source": [
    "**Después, seleccione el subarray de elementos**\n",
    "\n",
    "$\\begin{bmatrix}\n",
    "2 & 5\\\\ \n",
    "8 & 5 \n",
    "\\end{bmatrix}$"
   ]
  },
  {
   "cell_type": "code",
   "execution_count": null,
   "id": "41ace949-eca6-45ec-932e-f89ff400edf1",
   "metadata": {},
   "outputs": [],
   "source": [
    "ex3_2_array = ex3_array[::2,::2]\n",
    "ex3_2_array"
   ]
  },
  {
   "cell_type": "markdown",
   "id": "85253fca-e1e4-4dcc-bb1e-74a2d4453098",
   "metadata": {
    "jp-MarkdownHeadingCollapsed": true
   },
   "source": [
    "#### 4. Dados los arrays \n",
    "$a = [1, 4, 2, 7]$\n",
    "\n",
    "$b = [1, 3, 2, 9]$\n",
    "\n",
    "**obtenga la media aritmética de la diferencia (a-b)**"
   ]
  },
  {
   "cell_type": "code",
   "execution_count": null,
   "id": "4df6eda6-809a-457a-8971-30ce5595b5ac",
   "metadata": {},
   "outputs": [],
   "source": [
    "a = np.array([1,4,2,7])\n",
    "b = np.array([1,3,2,9])\n",
    "print(f\"{a = :}\\n{b = :}\\n{(a-b) = :}\\n{(a-b).mean() = :}\")"
   ]
  },
  {
   "cell_type": "markdown",
   "id": "4d12bc7d-30ab-4d83-90c1-a6300e6b2df2",
   "metadata": {
    "jp-MarkdownHeadingCollapsed": true
   },
   "source": [
    "####  5. Tengo valores de cordenadas (x, y) en las columnas del array\n",
    "$\\begin{bmatrix}\n",
    "1.33 & 4.5\\\\\n",
    "30.0 & 10.7\\\\\n",
    "70.2 & 0.5\n",
    "\\end{bmatrix}$"
   ]
  },
  {
   "cell_type": "code",
   "execution_count": null,
   "id": "40ec9157-b081-4868-bd97-696d5c7a1938",
   "metadata": {},
   "outputs": [],
   "source": [
    "ex5_array = np.array([[1.33,4.5],[30.0,10.7],[70.2,0.5]])\n",
    "ex5_array"
   ]
  },
  {
   "cell_type": "markdown",
   "id": "7b3c9031-1641-4c9d-b0da-88787b187a50",
   "metadata": {},
   "source": [
    "**Agregue a este array las coordenadas (37.1, -3.6).**"
   ]
  },
  {
   "cell_type": "code",
   "execution_count": null,
   "id": "65f42188-a442-409b-b3f8-bb90086a75c6",
   "metadata": {},
   "outputs": [],
   "source": [
    "ex5_array_add = np.append(ex5_array,[[37.1,-3.6]],axis=0)\n",
    "ex5_array_add"
   ]
  },
  {
   "cell_type": "markdown",
   "id": "bf576a8a-620f-4d62-85bf-132acf548c58",
   "metadata": {},
   "source": [
    "**Muestre en pantalla las dimensiones del nuevo array.**"
   ]
  },
  {
   "cell_type": "code",
   "execution_count": null,
   "id": "6281a824-4537-4f0f-8997-b53d598a21d7",
   "metadata": {},
   "outputs": [],
   "source": [
    "dim = ex5_array_add.shape\n",
    "print(f\"El array tiene {dim[0]} filas y {dim[1]} columnas.\")"
   ]
  },
  {
   "cell_type": "markdown",
   "id": "36b9f927-c7a7-4ce6-82e6-4c3143af0d38",
   "metadata": {
    "jp-MarkdownHeadingCollapsed": true
   },
   "source": [
    "#### 6. Copie el array del ejercicio anterior. Traspóngalo.)."
   ]
  },
  {
   "cell_type": "code",
   "execution_count": null,
   "id": "93028b30-8a07-4051-b16d-b81a971bc321",
   "metadata": {},
   "outputs": [],
   "source": [
    "ex6_array = ex5_array_add.copy()\n",
    "ex6_array"
   ]
  },
  {
   "cell_type": "code",
   "execution_count": null,
   "id": "b4b9695e-1669-49b0-8579-3cee80f943be",
   "metadata": {},
   "outputs": [],
   "source": [
    "ex6_array_trans = ex6_array.T\n",
    "ex6_array_trans"
   ]
  },
  {
   "cell_type": "markdown",
   "id": "bac808bb-152d-4729-bd9c-b2ee777c9634",
   "metadata": {},
   "source": [
    "**Agregue ahora dos nuevos pares de coordenadas: \n",
    "(10.8, 3.0) y (35.8, 12.0).**"
   ]
  },
  {
   "cell_type": "code",
   "execution_count": null,
   "id": "44756bcb-1788-4709-bb75-edca1de7d721",
   "metadata": {},
   "outputs": [],
   "source": [
    "np.concatenate((ex6_array_trans,np.array([[10.8,3.0],[35.8,12.0]]).T),axis=1)"
   ]
  },
  {
   "cell_type": "markdown",
   "id": "0bde034d-89c8-445e-949d-a8effe99e8d2",
   "metadata": {},
   "source": [
    "# Parte 2: Exploración y Minería de Datos"
   ]
  },
  {
   "cell_type": "code",
   "execution_count": null,
   "id": "21b12f97-c158-40d1-9cf3-af638a26ed89",
   "metadata": {},
   "outputs": [],
   "source": [
    "import pandas as pd\n",
    "import matplotlib.pyplot as plt"
   ]
  },
  {
   "cell_type": "code",
   "execution_count": null,
   "id": "340abb62-e2f4-4cc3-918c-b3138ee13894",
   "metadata": {},
   "outputs": [],
   "source": [
    "dataset = pd.read_csv('NucleosPoblacion.csv')\n",
    "dataset.head()"
   ]
  },
  {
   "cell_type": "code",
   "execution_count": null,
   "id": "1b601cee-b9a7-4f55-b5b5-9974177f77e1",
   "metadata": {},
   "outputs": [],
   "source": [
    "dataset.shape"
   ]
  },
  {
   "cell_type": "code",
   "execution_count": null,
   "id": "a3dcb1c2-7b5c-4896-b497-25a7f5e06002",
   "metadata": {},
   "outputs": [],
   "source": [
    "# se verifica si hay duplicados\n",
    "dataset.duplicated().sum()"
   ]
  },
  {
   "cell_type": "markdown",
   "id": "ce8c0f3b-a99d-4dd9-a27d-bac70f7afb77",
   "metadata": {},
   "source": [
    "#### 1. ¿Cuántos Municipios tienen más de 100,000 habitantes?."
   ]
  },
  {
   "cell_type": "code",
   "execution_count": null,
   "id": "7a388f5a-14f0-459a-80f5-b4824e266d92",
   "metadata": {},
   "outputs": [],
   "source": [
    "cant_mun = (dataset.Poblacion > 1e5).sum()\n",
    "print(f\"{cant_mun} municipios tienen más de 100,000 habitantes\")"
   ]
  },
  {
   "cell_type": "markdown",
   "id": "1784328e-d804-45e8-a3ac-edb5b97701bf",
   "metadata": {},
   "source": [
    "####  Realice una gráfica de barras sobre la población de cada ciudad, ordenela de menor a mayor y responda"
   ]
  },
  {
   "cell_type": "code",
   "execution_count": null,
   "id": "2a424cc1-3516-43cf-bf7f-f99c3eb23606",
   "metadata": {},
   "outputs": [],
   "source": [
    "pob_prov = dataset.groupby('Provincia')[['Poblacion']].sum().sort_values(by='Poblacion')\n",
    "pob_prov.plot(kind='bar', figsize=(10,5))\n",
    "plt.grid()"
   ]
  },
  {
   "cell_type": "markdown",
   "id": "73ed1cc4-6028-4db6-9e0e-7d6966f4cfaf",
   "metadata": {},
   "source": [
    "**a. ¿Cuál es la segunda ciudad más poblada?**\n",
    "\n",
    "Se observa en el gráfico que la segunda ciudad más poblada es Barcelona."
   ]
  },
  {
   "cell_type": "markdown",
   "id": "4204626c-2cc6-4f48-991e-fefdfe2b1ad7",
   "metadata": {},
   "source": [
    "**b. ¿Qué posición ocupa Granada en el ranking de las ciudades más pobladas?**\n",
    "\n",
    "Se observa en el gráfico que ocupa el puesto 17.\n",
    "\n",
    "Se comprueba ordenando los datos de mayor a menor y buscando la provincia de Granada en el dataframe."
   ]
  },
  {
   "cell_type": "code",
   "execution_count": null,
   "id": "b5e29f1a-56be-4337-bded-3bb2aaa1c570",
   "metadata": {},
   "outputs": [],
   "source": [
    "pob_prov_sort = (pob_prov\n",
    "                 .sort_values(by='Poblacion', ascending=False)\n",
    "                 .reset_index()\n",
    "                )\n",
    "pob_prov_sort.index += 1\n",
    "pob_prov_sort[pob_prov_sort.Provincia == 'Granada']"
   ]
  },
  {
   "cell_type": "markdown",
   "id": "a840c249-a006-4362-83dd-fd00586eeacb",
   "metadata": {},
   "source": [
    "#### 3. ¿Cuántos municipios de Extremadura tienen más de 5000 habitantes?."
   ]
  },
  {
   "cell_type": "code",
   "execution_count": null,
   "id": "a3994b21-83a7-4202-9850-45acb307bac9",
   "metadata": {},
   "outputs": [],
   "source": [
    "extremadura = dataset[dataset.Provincia.isin(['Cáceres','Badajoz'])]\n",
    "print(f\"Extremadura tiene {(extremadura.Poblacion > 5e3).sum()} municipios con más de 5,000 habitantes\")"
   ]
  },
  {
   "cell_type": "markdown",
   "id": "db0a7304-46e0-4ac1-834b-3f465c531edc",
   "metadata": {},
   "source": [
    "#### 3. Corregido ¿Cuántos municipios de Extremadura tienen más de 5000 habitantes?."
   ]
  },
  {
   "cell_type": "code",
   "execution_count": null,
   "id": "fb277291-976b-4896-89a6-9f111735b30e",
   "metadata": {},
   "outputs": [],
   "source": [
    "navarra = dataset[dataset.Provincia == 'Navarra')]\n",
    "print(f\"Navarra tiene {(navarra.Poblacion > 5e3).sum()} municipios con más de 5,000 habitantes\")"
   ]
  },
  {
   "cell_type": "markdown",
   "id": "5bc1cc63-1ccd-4b51-aef0-366586e3ab98",
   "metadata": {},
   "source": [
    "#### 4. ¿Cuál es el municipio situado más al Norte?"
   ]
  },
  {
   "cell_type": "code",
   "execution_count": null,
   "id": "6a4e1a31-bd52-43cf-b6da-5f4c9e54e89d",
   "metadata": {},
   "outputs": [],
   "source": [
    "northest_mun = dataset[dataset.Y == max(dataset.Y)]\n",
    "print(f\"El municipio situado más al norte es {northest_mun.Municipio.values[0]}\")\n",
    "print(f\"Se encuentra en la Provincia de {northest_mun.Provincia.values[0]}\")\n",
    "print(f\"Cuenta con una población de {int(northest_mun.Poblacion.sum()):,} habiantes\")"
   ]
  },
  {
   "cell_type": "markdown",
   "id": "18ba03e5-f2fe-4cd3-8189-3787badb0f63",
   "metadata": {},
   "source": [
    "#### 5. Obtenga la media, mediana, desviación estándar, valor máximo y valor mínimo de la población de los municipios de la provincia de Granada."
   ]
  },
  {
   "cell_type": "code",
   "execution_count": null,
   "id": "fe0f80f4-8ad8-49dc-aa14-9b1f8d0a699c",
   "metadata": {},
   "outputs": [],
   "source": [
    "mun_granada = dataset[dataset.Provincia == 'Granada'][['Municipio','Poblacion']]\n",
    "media_pob = mun_granada.Poblacion.mean()\n",
    "mediana_pob = mun_granada.Poblacion.median()\n",
    "std_pob = mun_granada.Poblacion.std()\n",
    "max_pob = mun_granada.Poblacion.max()\n",
    "min_pob = mun_granada.Poblacion.min()\n",
    "print(f\"Datos de la población de Granda\\n{50*'-'}\")\n",
    "print(f\"{media_pob = :,.2f}\\n{mediana_pob = :,.2f}\\n{std_pob = :,.2f}\\n{max_pob = :,.2f}\\n{min_pob = :,.2f}\")"
   ]
  },
  {
   "cell_type": "markdown",
   "id": "1bb40955-e9f8-40d2-bd81-d8c5577cb7eb",
   "metadata": {},
   "source": [
    "#### 6. Realice un histograma con la población de los Municipios para cada una de las provincias"
   ]
  },
  {
   "cell_type": "code",
   "execution_count": null,
   "id": "7b7d2b36-37ad-4807-88a9-89f0f178529b",
   "metadata": {},
   "outputs": [],
   "source": [
    "provincias = dataset.groupby(['Provincia','Municipio'])[['Poblacion']].sum().reset_index()\n",
    "fig, ax =  plt.subplots(13,4, figsize=(30,100))\n",
    "for i, prov in enumerate(provincias.Provincia.unique()):\n",
    "    df = provincias[provincias.Provincia == prov]\n",
    "    graf =df.Poblacion.plot(kind='hist', ax=ax[i//4,i%4],title=prov,grid=True)\n",
    "plt.show()"
   ]
  },
  {
   "cell_type": "markdown",
   "id": "c77a20bf-bf16-4e8b-8572-e3aa7fcf006e",
   "metadata": {},
   "source": [
    "#### 7. Seleccione al azar cincuenta municipios diferentes de entre los diponibles en el archivo. Asegúrese de que no se repitan. ¿Luego calcule el promedio de la población y la desviación estándar de esto 50 municipios?"
   ]
  },
  {
   "cell_type": "code",
   "execution_count": null,
   "id": "8f136347-f922-4037-98ba-3bdfe16f5981",
   "metadata": {},
   "outputs": [],
   "source": [
    "municipios = pd.DataFrame(dataset.Municipio.unique(), columns=['Municipio']).sample(50, replace=False)\n",
    "print(f\"Los municipios seleccionados son: {municipios.Municipio.values}\")"
   ]
  },
  {
   "cell_type": "code",
   "execution_count": null,
   "id": "c3303ba2-4bbd-4c8b-82c6-95bba936087a",
   "metadata": {},
   "outputs": [],
   "source": [
    "df_mun = dataset[dataset.Municipio.isin(municipios.Municipio)]\n",
    "pob_mean = df_mun.Poblacion.mean()\n",
    "pob_std = df_mun.Poblacion.std()\n",
    "print(f\"La población media de los municipios seleccionados es: {pob_mean:,.2f}\")\n",
    "print(f\"La desviación estándar de la población de los municipios seleccionados es: {pob_std:,.2f}\")"
   ]
  },
  {
   "cell_type": "markdown",
   "id": "f953747c-312c-4a2f-aa9c-ded2c4b05322",
   "metadata": {},
   "source": [
    "#### 8. Determine los nombres de los Municipios más cercano y más lejano a Madrid. Para ello debe calcular la distancia en todos ellos y Madrid. No considere a Madrid en el análisis ya que la distancia sería cero"
   ]
  },
  {
   "cell_type": "code",
   "execution_count": null,
   "id": "42c647cc-7186-4288-9c3a-383a6ffe3130",
   "metadata": {},
   "outputs": [],
   "source": [
    "# algunos municipios están repetidos, se toma la media de las coordenadas\n",
    "coord_mun = dataset.groupby('Municipio')[['X','Y']].mean()\n",
    "print(f\"Cantidad total de municipios: {coord_mun.shape[0]}\")\n",
    "\n",
    "# Se extraen las coordenadas del municipio de Madrid\n",
    "coord_madrid = coord_mun.loc['Madrid'].values\n",
    "coord_mun.drop('Madrid', inplace=True)\n",
    "print(f\"Coordenadas de Madrid (municipio): {coord_madrid}\")\n",
    "\n",
    "print(f\"Cantidad de municipios sin Madrid: {coord_mun.shape[0]}\")\n",
    "\n",
    "# Cálculo de la distancia para cada municipio respecto a Madrid\n",
    "coord_mun[['dX','dY']] = coord_mun-coord_madrid\n",
    "coord_mun['dist'] = (coord_mun.dX**2 + coord_mun.dY**2)**(1/2)\n",
    "\n",
    "# Determinación de distancia mínima y máxima\n",
    "farthest_mun = coord_mun[coord_mun.dist == coord_mun.dist.max()].index[0]\n",
    "closest_mun = coord_mun[coord_mun.dist == coord_mun.dist.min()].index[0]\n",
    "print(f\"El municipio más lejano de Madrid es: {farthest_mun}\")\n",
    "print(f\"El municipio más cercano de Madrid es: {closest_mun}\")"
   ]
  },
  {
   "cell_type": "code",
   "execution_count": null,
   "id": "211b60f3-6ac5-4d0e-af27-bbba76ad68fd",
   "metadata": {},
   "outputs": [],
   "source": [
    "!git add ."
   ]
  },
  {
   "cell_type": "code",
   "execution_count": null,
   "id": "787b2a39-b2be-4931-b9e0-aced8e3d8d7c",
   "metadata": {},
   "outputs": [],
   "source": [
    "!git commit -m \"Corrección Extremadura por Navarra\""
   ]
  },
  {
   "cell_type": "code",
   "execution_count": null,
   "id": "c066382b-1927-45bc-9c7d-91a0d7c922d8",
   "metadata": {},
   "outputs": [],
   "source": [
    "!git push "
   ]
  },
  {
   "cell_type": "code",
   "execution_count": null,
   "id": "683a60ff-f2ec-44b0-ba4a-6ba4ac2cef1b",
   "metadata": {},
   "outputs": [],
   "source": []
  }
 ],
 "metadata": {
  "kernelspec": {
   "display_name": "Python 3 (ipykernel)",
   "language": "python",
   "name": "python3"
  },
  "language_info": {
   "codemirror_mode": {
    "name": "ipython",
    "version": 3
   },
   "file_extension": ".py",
   "mimetype": "text/x-python",
   "name": "python",
   "nbconvert_exporter": "python",
   "pygments_lexer": "ipython3",
   "version": "3.8.18"
  }
 },
 "nbformat": 4,
 "nbformat_minor": 5
}
