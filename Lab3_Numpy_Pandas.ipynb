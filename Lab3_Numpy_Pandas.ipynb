{
 "cells": [
  {
   "cell_type": "markdown",
   "id": "9f844c45-a682-4681-97ce-70c009f02bb1",
   "metadata": {},
   "source": [
    "# Parte 1: Numpy"
   ]
  },
  {
   "cell_type": "code",
   "execution_count": 2,
   "id": "c633dbad-f343-4faf-becb-02c6144d87dd",
   "metadata": {},
   "outputs": [],
   "source": [
    "import numpy as np"
   ]
  },
  {
   "cell_type": "markdown",
   "id": "bc2c2660-ecd1-497a-a247-17498a241c8d",
   "metadata": {
    "jp-MarkdownHeadingCollapsed": true
   },
   "source": [
    "#### 1. ¿Cuál es el tamaño en bytes de un array de 1000 elementos de tipo booleano?"
   ]
  },
  {
   "cell_type": "code",
   "execution_count": 12,
   "id": "e5c4fd22-65d1-4372-804a-c19379ecf037",
   "metadata": {},
   "outputs": [
    {
     "name": "stdout",
     "output_type": "stream",
     "text": [
      "El tamaño de un array de 1000 elementos tipo bool es: 1000 bytes\n"
     ]
    }
   ],
   "source": [
    "bool_array = np.ones(1000,dtype='bool')\n",
    "size_bytes = bool_array.nbytes\n",
    "print(f\"El tamaño de un array de 1000 elementos tipo bool es: {size_bytes} bytes\")"
   ]
  },
  {
   "cell_type": "markdown",
   "id": "053e332b-dabd-46cc-abf8-a6c4faa3c94c",
   "metadata": {
    "jp-MarkdownHeadingCollapsed": true
   },
   "source": [
    "#### 2. Cree un array cuyos elementos sean los enteros pares en [1,100] y en orden decreciente. Muestre los 10 últimos por pantalla."
   ]
  },
  {
   "cell_type": "code",
   "execution_count": 28,
   "id": "6547404d-1694-4adc-a194-714856eb96ce",
   "metadata": {},
   "outputs": [
    {
     "name": "stdout",
     "output_type": "stream",
     "text": [
      "enteros_pares_dec[-10:] = [20 18 16 14 12 10  8  6  4  2]\n"
     ]
    }
   ],
   "source": [
    "enteros_pares = np.arange(2,101,2)\n",
    "enteros_pares_dec = enteros_pares[::-1]\n",
    "print(f\"{enteros_pares_dec[-10:] = :}\")"
   ]
  },
  {
   "cell_type": "markdown",
   "id": "9f8e27d7-ce87-4147-983e-96a34ce310fa",
   "metadata": {
    "jp-MarkdownHeadingCollapsed": true
   },
   "source": [
    "#### 3. Dado el array\n",
    "\n",
    "$\\begin{bmatrix}\n",
    "2 & 4 & 5 & 6 \\\\\n",
    "0 & 3 & 7 & 4\\\\\n",
    "8 & 8 & 5 & 2\\\\\n",
    "1 & 5 & 6 & 1\n",
    "\\end{bmatrix}$"
   ]
  },
  {
   "cell_type": "markdown",
   "id": "3b904111-4b9b-4a1d-9e6d-7dabad905703",
   "metadata": {},
   "source": [
    "**Seleccione con una instrucción el subarray de elementos**\n",
    "\n",
    "$\\begin{bmatrix}\n",
    "0 & 3 & 4 & 7 \n",
    "\\end{bmatrix}$"
   ]
  },
  {
   "cell_type": "code",
   "execution_count": 31,
   "id": "ab9d19c8-344e-4ff5-810e-02238208e924",
   "metadata": {},
   "outputs": [
    {
     "data": {
      "text/plain": [
       "array([0, 3, 7, 4])"
      ]
     },
     "execution_count": 31,
     "metadata": {},
     "output_type": "execute_result"
    }
   ],
   "source": [
    "ex3_array = np.array([[2,4,5,6],[0,3,7,4],[8,8,5,2],[1,5,6,1]])\n",
    "ex3_1_array = ex3_array[1]\n",
    "ex3_1_array"
   ]
  },
  {
   "cell_type": "markdown",
   "id": "e11ea596-be6b-46bb-84ce-2fa591533d13",
   "metadata": {},
   "source": [
    "**Después, seleccione el subarray de elementos**\n",
    "\n",
    "$\\begin{bmatrix}\n",
    "2 & 5\\\\ \n",
    "8 & 5 \n",
    "\\end{bmatrix}$"
   ]
  },
  {
   "cell_type": "code",
   "execution_count": 42,
   "id": "41ace949-eca6-45ec-932e-f89ff400edf1",
   "metadata": {},
   "outputs": [
    {
     "data": {
      "text/plain": [
       "array([[2, 5],\n",
       "       [8, 5]])"
      ]
     },
     "execution_count": 42,
     "metadata": {},
     "output_type": "execute_result"
    }
   ],
   "source": [
    "ex3_2_array = ex3_array[::2,::2]\n",
    "ex3_2_array"
   ]
  },
  {
   "cell_type": "markdown",
   "id": "85253fca-e1e4-4dcc-bb1e-74a2d4453098",
   "metadata": {
    "jp-MarkdownHeadingCollapsed": true
   },
   "source": [
    "#### 4. Dados los arrays \n",
    "$a = [1, 4, 2, 7]$\n",
    "\n",
    "$b = [1, 3, 2, 9]$\n",
    "\n",
    "**obtenga la media aritmética de la diferencia (a-b)**"
   ]
  },
  {
   "cell_type": "code",
   "execution_count": 48,
   "id": "4df6eda6-809a-457a-8971-30ce5595b5ac",
   "metadata": {},
   "outputs": [
    {
     "name": "stdout",
     "output_type": "stream",
     "text": [
      "a = [1 4 2 7]\n",
      "b = [1 3 2 9]\n",
      "(a-b) = [ 0  1  0 -2]\n",
      "(a-b).mean() = -0.25\n"
     ]
    }
   ],
   "source": [
    "a = np.array([1,4,2,7])\n",
    "b = np.array([1,3,2,9])\n",
    "print(f\"{a = :}\\n{b = :}\\n{(a-b) = :}\\n{(a-b).mean() = :}\")"
   ]
  },
  {
   "cell_type": "markdown",
   "id": "4d12bc7d-30ab-4d83-90c1-a6300e6b2df2",
   "metadata": {
    "jp-MarkdownHeadingCollapsed": true
   },
   "source": [
    "####  5. Tengo valores de cordenadas (x, y) en las columnas del array\n",
    "$\\begin{bmatrix}\n",
    "1.33 & 4.5\\\\\n",
    "30.0 & 10.7\\\\\n",
    "70.2 & 0.5\n",
    "\\end{bmatrix}$"
   ]
  },
  {
   "cell_type": "code",
   "execution_count": 49,
   "id": "40ec9157-b081-4868-bd97-696d5c7a1938",
   "metadata": {},
   "outputs": [
    {
     "data": {
      "text/plain": [
       "array([[ 1.33,  4.5 ],\n",
       "       [30.  , 10.7 ],\n",
       "       [70.2 ,  0.5 ]])"
      ]
     },
     "execution_count": 49,
     "metadata": {},
     "output_type": "execute_result"
    }
   ],
   "source": [
    "ex5_array = np.array([[1.33,4.5],[30.0,10.7],[70.2,0.5]])\n",
    "ex5_array"
   ]
  },
  {
   "cell_type": "markdown",
   "id": "7b3c9031-1641-4c9d-b0da-88787b187a50",
   "metadata": {},
   "source": [
    "**Agregue a este array las coordenadas (37.1, -3.6).**"
   ]
  },
  {
   "cell_type": "code",
   "execution_count": 54,
   "id": "65f42188-a442-409b-b3f8-bb90086a75c6",
   "metadata": {},
   "outputs": [
    {
     "data": {
      "text/plain": [
       "array([[ 1.33,  4.5 ],\n",
       "       [30.  , 10.7 ],\n",
       "       [70.2 ,  0.5 ],\n",
       "       [37.1 , -3.6 ]])"
      ]
     },
     "execution_count": 54,
     "metadata": {},
     "output_type": "execute_result"
    }
   ],
   "source": [
    "ex5_array_add = np.append(ex5_array,[[37.1,-3.6]],axis=0)\n",
    "ex5_array_add"
   ]
  },
  {
   "cell_type": "markdown",
   "id": "bf576a8a-620f-4d62-85bf-132acf548c58",
   "metadata": {},
   "source": [
    "**Muestre en pantalla las dimensiones del nuevo array.**"
   ]
  },
  {
   "cell_type": "code",
   "execution_count": 60,
   "id": "6281a824-4537-4f0f-8997-b53d598a21d7",
   "metadata": {},
   "outputs": [
    {
     "name": "stdout",
     "output_type": "stream",
     "text": [
      "El array tiene 4 filas y 2 columnas.\n"
     ]
    }
   ],
   "source": [
    "dim = ex5_array_add.shape\n",
    "print(f\"El array tiene {dim[0]} filas y {dim[1]} columnas.\")"
   ]
  },
  {
   "cell_type": "markdown",
   "id": "36b9f927-c7a7-4ce6-82e6-4c3143af0d38",
   "metadata": {
    "jp-MarkdownHeadingCollapsed": true
   },
   "source": [
    "#### 6. Copie el array del ejercicio anterior. Traspóngalo.)."
   ]
  },
  {
   "cell_type": "code",
   "execution_count": 102,
   "id": "93028b30-8a07-4051-b16d-b81a971bc321",
   "metadata": {},
   "outputs": [
    {
     "data": {
      "text/plain": [
       "array([[ 1.33,  4.5 ],\n",
       "       [30.  , 10.7 ],\n",
       "       [70.2 ,  0.5 ],\n",
       "       [37.1 , -3.6 ]])"
      ]
     },
     "execution_count": 102,
     "metadata": {},
     "output_type": "execute_result"
    }
   ],
   "source": [
    "ex6_array = ex5_array_add.copy()\n",
    "ex6_array"
   ]
  },
  {
   "cell_type": "code",
   "execution_count": 103,
   "id": "b4b9695e-1669-49b0-8579-3cee80f943be",
   "metadata": {},
   "outputs": [
    {
     "data": {
      "text/plain": [
       "array([[ 1.33, 30.  , 70.2 , 37.1 ],\n",
       "       [ 4.5 , 10.7 ,  0.5 , -3.6 ]])"
      ]
     },
     "execution_count": 103,
     "metadata": {},
     "output_type": "execute_result"
    }
   ],
   "source": [
    "ex6_array_trans = ex6_array.T\n",
    "ex6_array_trans"
   ]
  },
  {
   "cell_type": "markdown",
   "id": "bac808bb-152d-4729-bd9c-b2ee777c9634",
   "metadata": {},
   "source": [
    "**Agregue ahora dos nuevos pares de coordenadas: \n",
    "(10.8, 3.0) y (35.8, 12.0).**"
   ]
  },
  {
   "cell_type": "code",
   "execution_count": 106,
   "id": "44756bcb-1788-4709-bb75-edca1de7d721",
   "metadata": {},
   "outputs": [
    {
     "data": {
      "text/plain": [
       "array([[ 1.33, 30.  , 70.2 , 37.1 , 10.8 , 35.8 ],\n",
       "       [ 4.5 , 10.7 ,  0.5 , -3.6 ,  3.  , 12.  ]])"
      ]
     },
     "execution_count": 106,
     "metadata": {},
     "output_type": "execute_result"
    }
   ],
   "source": [
    "np.concatenate((ex6_array_trans,np.array([[10.8,3.0],[35.8,12.0]]).T),axis=1)"
   ]
  },
  {
   "cell_type": "markdown",
   "id": "0bde034d-89c8-445e-949d-a8effe99e8d2",
   "metadata": {},
   "source": [
    "# Parte 2: Exploración y Minería de Datos"
   ]
  },
  {
   "cell_type": "code",
   "execution_count": 107,
   "id": "21b12f97-c158-40d1-9cf3-af638a26ed89",
   "metadata": {},
   "outputs": [],
   "source": [
    "import pandas as pd\n",
    "import matplotlib.pyplot as plt"
   ]
  },
  {
   "cell_type": "code",
   "execution_count": null,
   "id": "10f6a1de-a65a-4bcc-8262-0f627554125d",
   "metadata": {},
   "outputs": [],
   "source": []
  }
 ],
 "metadata": {
  "kernelspec": {
   "display_name": "Python 3 (ipykernel)",
   "language": "python",
   "name": "python3"
  },
  "language_info": {
   "codemirror_mode": {
    "name": "ipython",
    "version": 3
   },
   "file_extension": ".py",
   "mimetype": "text/x-python",
   "name": "python",
   "nbconvert_exporter": "python",
   "pygments_lexer": "ipython3",
   "version": "3.8.18"
  }
 },
 "nbformat": 4,
 "nbformat_minor": 5
}
