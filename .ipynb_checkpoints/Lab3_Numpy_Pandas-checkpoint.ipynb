{
 "cells": [
  {
   "cell_type": "markdown",
   "id": "9f844c45-a682-4681-97ce-70c009f02bb1",
   "metadata": {},
   "source": [
    "# Parte 1: Numpy"
   ]
  },
  {
   "cell_type": "code",
   "execution_count": 2,
   "id": "c633dbad-f343-4faf-becb-02c6144d87dd",
   "metadata": {},
   "outputs": [],
   "source": [
    "import numpy as np"
   ]
  },
  {
   "cell_type": "markdown",
   "id": "bc2c2660-ecd1-497a-a247-17498a241c8d",
   "metadata": {
    "jp-MarkdownHeadingCollapsed": true
   },
   "source": [
    "#### 1. ¿Cuál es el tamaño en bytes de un array de 1000 elementos de tipo booleano?"
   ]
  },
  {
   "cell_type": "code",
   "execution_count": 12,
   "id": "e5c4fd22-65d1-4372-804a-c19379ecf037",
   "metadata": {},
   "outputs": [
    {
     "name": "stdout",
     "output_type": "stream",
     "text": [
      "El tamaño de un array de 1000 elementos tipo bool es: 1000 bytes\n"
     ]
    }
   ],
   "source": [
    "bool_array = np.ones(1000,dtype='bool')\n",
    "size_bytes = bool_array.nbytes\n",
    "print(f\"El tamaño de un array de 1000 elementos tipo bool es: {size_bytes} bytes\")"
   ]
  },
  {
   "cell_type": "markdown",
   "id": "053e332b-dabd-46cc-abf8-a6c4faa3c94c",
   "metadata": {
    "jp-MarkdownHeadingCollapsed": true
   },
   "source": [
    "#### 2. Cree un array cuyos elementos sean los enteros pares en [1,100] y en orden decreciente. Muestre los 10 últimos por pantalla."
   ]
  },
  {
   "cell_type": "code",
   "execution_count": 28,
   "id": "6547404d-1694-4adc-a194-714856eb96ce",
   "metadata": {},
   "outputs": [
    {
     "name": "stdout",
     "output_type": "stream",
     "text": [
      "enteros_pares_dec[-10:] = [20 18 16 14 12 10  8  6  4  2]\n"
     ]
    }
   ],
   "source": [
    "enteros_pares = np.arange(2,101,2)\n",
    "enteros_pares_dec = enteros_pares[::-1]\n",
    "print(f\"{enteros_pares_dec[-10:] = :}\")"
   ]
  },
  {
   "cell_type": "markdown",
   "id": "9f8e27d7-ce87-4147-983e-96a34ce310fa",
   "metadata": {
    "jp-MarkdownHeadingCollapsed": true
   },
   "source": [
    "#### 3. Dado el array\n",
    "\n",
    "$\\begin{bmatrix}\n",
    "2 & 4 & 5 & 6 \\\\\n",
    "0 & 3 & 7 & 4\\\\\n",
    "8 & 8 & 5 & 2\\\\\n",
    "1 & 5 & 6 & 1\n",
    "\\end{bmatrix}$"
   ]
  },
  {
   "cell_type": "markdown",
   "id": "3b904111-4b9b-4a1d-9e6d-7dabad905703",
   "metadata": {},
   "source": [
    "**Seleccione con una instrucción el subarray de elementos**\n",
    "\n",
    "$\\begin{bmatrix}\n",
    "0 & 3 & 4 & 7 \n",
    "\\end{bmatrix}$"
   ]
  },
  {
   "cell_type": "code",
   "execution_count": 31,
   "id": "ab9d19c8-344e-4ff5-810e-02238208e924",
   "metadata": {},
   "outputs": [
    {
     "data": {
      "text/plain": [
       "array([0, 3, 7, 4])"
      ]
     },
     "execution_count": 31,
     "metadata": {},
     "output_type": "execute_result"
    }
   ],
   "source": [
    "ex3_array = np.array([[2,4,5,6],[0,3,7,4],[8,8,5,2],[1,5,6,1]])\n",
    "ex3_1_array = ex3_array[1]\n",
    "ex3_1_array"
   ]
  },
  {
   "cell_type": "markdown",
   "id": "e11ea596-be6b-46bb-84ce-2fa591533d13",
   "metadata": {},
   "source": [
    "**Después, seleccione el subarray de elementos**\n",
    "\n",
    "$\\begin{bmatrix}\n",
    "2 & 5\\\\ \n",
    "8 & 5 \n",
    "\\end{bmatrix}$"
   ]
  },
  {
   "cell_type": "code",
   "execution_count": 42,
   "id": "41ace949-eca6-45ec-932e-f89ff400edf1",
   "metadata": {},
   "outputs": [
    {
     "data": {
      "text/plain": [
       "array([[2, 5],\n",
       "       [8, 5]])"
      ]
     },
     "execution_count": 42,
     "metadata": {},
     "output_type": "execute_result"
    }
   ],
   "source": [
    "ex3_2_array = ex3_array[::2,::2]\n",
    "ex3_2_array"
   ]
  },
  {
   "cell_type": "markdown",
   "id": "85253fca-e1e4-4dcc-bb1e-74a2d4453098",
   "metadata": {
    "jp-MarkdownHeadingCollapsed": true
   },
   "source": [
    "#### 4. Dados los arrays \n",
    "$a = [1, 4, 2, 7]$\n",
    "\n",
    "$b = [1, 3, 2, 9]$\n",
    "\n",
    "**obtenga la media aritmética de la diferencia (a-b)**"
   ]
  },
  {
   "cell_type": "code",
   "execution_count": 48,
   "id": "4df6eda6-809a-457a-8971-30ce5595b5ac",
   "metadata": {},
   "outputs": [
    {
     "name": "stdout",
     "output_type": "stream",
     "text": [
      "a = [1 4 2 7]\n",
      "b = [1 3 2 9]\n",
      "(a-b) = [ 0  1  0 -2]\n",
      "(a-b).mean() = -0.25\n"
     ]
    }
   ],
   "source": [
    "a = np.array([1,4,2,7])\n",
    "b = np.array([1,3,2,9])\n",
    "print(f\"{a = :}\\n{b = :}\\n{(a-b) = :}\\n{(a-b).mean() = :}\")"
   ]
  },
  {
   "cell_type": "markdown",
   "id": "4d12bc7d-30ab-4d83-90c1-a6300e6b2df2",
   "metadata": {
    "jp-MarkdownHeadingCollapsed": true
   },
   "source": [
    "####  5. Tengo valores de cordenadas (x, y) en las columnas del array\n",
    "$\\begin{bmatrix}\n",
    "1.33 & 4.5\\\\\n",
    "30.0 & 10.7\\\\\n",
    "70.2 & 0.5\n",
    "\\end{bmatrix}$"
   ]
  },
  {
   "cell_type": "code",
   "execution_count": 49,
   "id": "40ec9157-b081-4868-bd97-696d5c7a1938",
   "metadata": {},
   "outputs": [
    {
     "data": {
      "text/plain": [
       "array([[ 1.33,  4.5 ],\n",
       "       [30.  , 10.7 ],\n",
       "       [70.2 ,  0.5 ]])"
      ]
     },
     "execution_count": 49,
     "metadata": {},
     "output_type": "execute_result"
    }
   ],
   "source": [
    "ex5_array = np.array([[1.33,4.5],[30.0,10.7],[70.2,0.5]])\n",
    "ex5_array"
   ]
  },
  {
   "cell_type": "markdown",
   "id": "7b3c9031-1641-4c9d-b0da-88787b187a50",
   "metadata": {},
   "source": [
    "**Agregue a este array las coordenadas (37.1, -3.6).**"
   ]
  },
  {
   "cell_type": "code",
   "execution_count": 54,
   "id": "65f42188-a442-409b-b3f8-bb90086a75c6",
   "metadata": {},
   "outputs": [
    {
     "data": {
      "text/plain": [
       "array([[ 1.33,  4.5 ],\n",
       "       [30.  , 10.7 ],\n",
       "       [70.2 ,  0.5 ],\n",
       "       [37.1 , -3.6 ]])"
      ]
     },
     "execution_count": 54,
     "metadata": {},
     "output_type": "execute_result"
    }
   ],
   "source": [
    "ex5_array_add = np.append(ex5_array,[[37.1,-3.6]],axis=0)\n",
    "ex5_array_add"
   ]
  },
  {
   "cell_type": "markdown",
   "id": "bf576a8a-620f-4d62-85bf-132acf548c58",
   "metadata": {},
   "source": [
    "**Muestre en pantalla las dimensiones del nuevo array.**"
   ]
  },
  {
   "cell_type": "code",
   "execution_count": 60,
   "id": "6281a824-4537-4f0f-8997-b53d598a21d7",
   "metadata": {},
   "outputs": [
    {
     "name": "stdout",
     "output_type": "stream",
     "text": [
      "El array tiene 4 filas y 2 columnas.\n"
     ]
    }
   ],
   "source": [
    "dim = ex5_array_add.shape\n",
    "print(f\"El array tiene {dim[0]} filas y {dim[1]} columnas.\")"
   ]
  },
  {
   "cell_type": "markdown",
   "id": "36b9f927-c7a7-4ce6-82e6-4c3143af0d38",
   "metadata": {
    "jp-MarkdownHeadingCollapsed": true
   },
   "source": [
    "#### 6. Copie el array del ejercicio anterior. Traspóngalo.)."
   ]
  },
  {
   "cell_type": "code",
   "execution_count": 102,
   "id": "93028b30-8a07-4051-b16d-b81a971bc321",
   "metadata": {},
   "outputs": [
    {
     "data": {
      "text/plain": [
       "array([[ 1.33,  4.5 ],\n",
       "       [30.  , 10.7 ],\n",
       "       [70.2 ,  0.5 ],\n",
       "       [37.1 , -3.6 ]])"
      ]
     },
     "execution_count": 102,
     "metadata": {},
     "output_type": "execute_result"
    }
   ],
   "source": [
    "ex6_array = ex5_array_add.copy()\n",
    "ex6_array"
   ]
  },
  {
   "cell_type": "code",
   "execution_count": 103,
   "id": "b4b9695e-1669-49b0-8579-3cee80f943be",
   "metadata": {},
   "outputs": [
    {
     "data": {
      "text/plain": [
       "array([[ 1.33, 30.  , 70.2 , 37.1 ],\n",
       "       [ 4.5 , 10.7 ,  0.5 , -3.6 ]])"
      ]
     },
     "execution_count": 103,
     "metadata": {},
     "output_type": "execute_result"
    }
   ],
   "source": [
    "ex6_array_trans = ex6_array.T\n",
    "ex6_array_trans"
   ]
  },
  {
   "cell_type": "markdown",
   "id": "bac808bb-152d-4729-bd9c-b2ee777c9634",
   "metadata": {},
   "source": [
    "**Agregue ahora dos nuevos pares de coordenadas: \n",
    "(10.8, 3.0) y (35.8, 12.0).**"
   ]
  },
  {
   "cell_type": "code",
   "execution_count": 106,
   "id": "44756bcb-1788-4709-bb75-edca1de7d721",
   "metadata": {},
   "outputs": [
    {
     "data": {
      "text/plain": [
       "array([[ 1.33, 30.  , 70.2 , 37.1 , 10.8 , 35.8 ],\n",
       "       [ 4.5 , 10.7 ,  0.5 , -3.6 ,  3.  , 12.  ]])"
      ]
     },
     "execution_count": 106,
     "metadata": {},
     "output_type": "execute_result"
    }
   ],
   "source": [
    "np.concatenate((ex6_array_trans,np.array([[10.8,3.0],[35.8,12.0]]).T),axis=1)"
   ]
  },
  {
   "cell_type": "markdown",
   "id": "0bde034d-89c8-445e-949d-a8effe99e8d2",
   "metadata": {},
   "source": [
    "# Parte 2: Exploración y Minería de Datos"
   ]
  },
  {
   "cell_type": "code",
   "execution_count": 107,
   "id": "21b12f97-c158-40d1-9cf3-af638a26ed89",
   "metadata": {},
   "outputs": [],
   "source": [
    "import pandas as pd\n",
    "import matplotlib.pyplot as plt"
   ]
  },
  {
   "cell_type": "code",
   "execution_count": 118,
   "id": "340abb62-e2f4-4cc3-918c-b3138ee13894",
   "metadata": {},
   "outputs": [
    {
     "data": {
      "text/html": [
       "<div>\n",
       "<style scoped>\n",
       "    .dataframe tbody tr th:only-of-type {\n",
       "        vertical-align: middle;\n",
       "    }\n",
       "\n",
       "    .dataframe tbody tr th {\n",
       "        vertical-align: top;\n",
       "    }\n",
       "\n",
       "    .dataframe thead th {\n",
       "        text-align: right;\n",
       "    }\n",
       "</style>\n",
       "<table border=\"1\" class=\"dataframe\">\n",
       "  <thead>\n",
       "    <tr style=\"text-align: right;\">\n",
       "      <th></th>\n",
       "      <th>FID</th>\n",
       "      <th>OBJECTID</th>\n",
       "      <th>Texto</th>\n",
       "      <th>Poblacion</th>\n",
       "      <th>CodMun</th>\n",
       "      <th>Municipio</th>\n",
       "      <th>CodProvin</th>\n",
       "      <th>Provincia</th>\n",
       "      <th>X</th>\n",
       "      <th>Y</th>\n",
       "    </tr>\n",
       "  </thead>\n",
       "  <tbody>\n",
       "    <tr>\n",
       "      <th>0</th>\n",
       "      <td>0</td>\n",
       "      <td>1</td>\n",
       "      <td>Agüimes</td>\n",
       "      <td>29431.0</td>\n",
       "      <td>35002</td>\n",
       "      <td>Agüimes</td>\n",
       "      <td>35</td>\n",
       "      <td>Las Palmas</td>\n",
       "      <td>-15.446012</td>\n",
       "      <td>27.900542</td>\n",
       "    </tr>\n",
       "    <tr>\n",
       "      <th>1</th>\n",
       "      <td>1</td>\n",
       "      <td>2</td>\n",
       "      <td>Antigua</td>\n",
       "      <td>10458.0</td>\n",
       "      <td>35003</td>\n",
       "      <td>Antigua</td>\n",
       "      <td>35</td>\n",
       "      <td>Las Palmas</td>\n",
       "      <td>-14.013301</td>\n",
       "      <td>28.418966</td>\n",
       "    </tr>\n",
       "    <tr>\n",
       "      <th>2</th>\n",
       "      <td>2</td>\n",
       "      <td>3</td>\n",
       "      <td>Arrecife</td>\n",
       "      <td>58156.0</td>\n",
       "      <td>35004</td>\n",
       "      <td>Arrecife</td>\n",
       "      <td>35</td>\n",
       "      <td>Las Palmas</td>\n",
       "      <td>-13.551451</td>\n",
       "      <td>28.960649</td>\n",
       "    </tr>\n",
       "    <tr>\n",
       "      <th>3</th>\n",
       "      <td>3</td>\n",
       "      <td>4</td>\n",
       "      <td>Arucas</td>\n",
       "      <td>36745.0</td>\n",
       "      <td>35006</td>\n",
       "      <td>Arucas</td>\n",
       "      <td>35</td>\n",
       "      <td>Las Palmas</td>\n",
       "      <td>-15.521512</td>\n",
       "      <td>28.117496</td>\n",
       "    </tr>\n",
       "    <tr>\n",
       "      <th>4</th>\n",
       "      <td>4</td>\n",
       "      <td>5</td>\n",
       "      <td>Gáldar</td>\n",
       "      <td>24473.0</td>\n",
       "      <td>35009</td>\n",
       "      <td>Gáldar</td>\n",
       "      <td>35</td>\n",
       "      <td>Las Palmas</td>\n",
       "      <td>-15.654111</td>\n",
       "      <td>28.143873</td>\n",
       "    </tr>\n",
       "  </tbody>\n",
       "</table>\n",
       "</div>"
      ],
      "text/plain": [
       "   FID  OBJECTID     Texto  Poblacion  CodMun Municipio  CodProvin  \\\n",
       "0    0         1   Agüimes    29431.0   35002   Agüimes         35   \n",
       "1    1         2   Antigua    10458.0   35003   Antigua         35   \n",
       "2    2         3  Arrecife    58156.0   35004  Arrecife         35   \n",
       "3    3         4    Arucas    36745.0   35006    Arucas         35   \n",
       "4    4         5    Gáldar    24473.0   35009    Gáldar         35   \n",
       "\n",
       "    Provincia          X          Y  \n",
       "0  Las Palmas -15.446012  27.900542  \n",
       "1  Las Palmas -14.013301  28.418966  \n",
       "2  Las Palmas -13.551451  28.960649  \n",
       "3  Las Palmas -15.521512  28.117496  \n",
       "4  Las Palmas -15.654111  28.143873  "
      ]
     },
     "execution_count": 118,
     "metadata": {},
     "output_type": "execute_result"
    }
   ],
   "source": [
    "dataset = pd.read_csv('NucleosPoblacion.csv')\n",
    "dataset.head()"
   ]
  },
  {
   "cell_type": "code",
   "execution_count": 122,
   "id": "1b601cee-b9a7-4f55-b5b5-9974177f77e1",
   "metadata": {},
   "outputs": [
    {
     "data": {
      "text/plain": [
       "(852, 10)"
      ]
     },
     "execution_count": 122,
     "metadata": {},
     "output_type": "execute_result"
    }
   ],
   "source": [
    "dataset.shape"
   ]
  },
  {
   "cell_type": "markdown",
   "id": "ce8c0f3b-a99d-4dd9-a27d-bac70f7afb77",
   "metadata": {},
   "source": [
    "#### 1. ¿Cuántos Municipios tienen más de 100000 habitantes?."
   ]
  },
  {
   "cell_type": "code",
   "execution_count": 138,
   "id": "7a388f5a-14f0-459a-80f5-b4824e266d92",
   "metadata": {},
   "outputs": [
    {
     "name": "stdout",
     "output_type": "stream",
     "text": [
      "62 municipios tienen más de 100,000 habitantes\n"
     ]
    }
   ],
   "source": [
    "cant_mun = (dataset.Poblacion > 1e5).sum()\n",
    "print(f\"{cant_mun} municipios tienen más de 100,000 habitantes\")"
   ]
  },
  {
   "cell_type": "markdown",
   "id": "1784328e-d804-45e8-a3ac-edb5b97701bf",
   "metadata": {},
   "source": [
    "####  Realice una gráfica de barras sobre la población de cada ciudad, ordenela de menor a mayor y responda"
   ]
  },
  {
   "cell_type": "code",
   "execution_count": 162,
   "id": "2a424cc1-3516-43cf-bf7f-f99c3eb23606",
   "metadata": {},
   "outputs": [
    {
     "data": {
      "image/png": "[encoded data removed]",
      "text/plain": [
       "<Figure size 1000x500 with 1 Axes>"
      ]
     },
     "metadata": {},
     "output_type": "display_data"
    }
   ],
   "source": [
    "pob_prov = dataset.groupby('Provincia')[['Poblacion']].sum().sort_values(by='Poblacion')\n",
    "pob_prov.plot(kind='bar', figsize=(10,5))\n",
    "plt.grid()"
   ]
  },
  {
   "cell_type": "markdown",
   "id": "73ed1cc4-6028-4db6-9e0e-7d6966f4cfaf",
   "metadata": {},
   "source": [
    "**a. ¿Cuál es la segunda ciudad más poblada?**\n",
    "\n",
    "Se observa en el gráfico que la segunda ciudad más poblada es Barcelona."
   ]
  },
  {
   "cell_type": "markdown",
   "id": "4204626c-2cc6-4f48-991e-fefdfe2b1ad7",
   "metadata": {},
   "source": [
    "**b. ¿Qué posición ocupa Granada en el ranking de las ciudades más pobladas?**\n",
    "\n",
    "Se observa en el gráfico que ocupa el puesto 17.\n",
    "\n",
    "Se comprueba ordenando los datos de mayor a menor y buscando la provincia de Granada en el dataframe."
   ]
  },
  {
   "cell_type": "code",
   "execution_count": 175,
   "id": "b5e29f1a-56be-4337-bded-3bb2aaa1c570",
   "metadata": {},
   "outputs": [
    {
     "data": {
      "text/html": [
       "<div>\n",
       "<style scoped>\n",
       "    .dataframe tbody tr th:only-of-type {\n",
       "        vertical-align: middle;\n",
       "    }\n",
       "\n",
       "    .dataframe tbody tr th {\n",
       "        vertical-align: top;\n",
       "    }\n",
       "\n",
       "    .dataframe thead th {\n",
       "        text-align: right;\n",
       "    }\n",
       "</style>\n",
       "<table border=\"1\" class=\"dataframe\">\n",
       "  <thead>\n",
       "    <tr style=\"text-align: right;\">\n",
       "      <th></th>\n",
       "      <th>Provincia</th>\n",
       "      <th>Poblacion</th>\n",
       "    </tr>\n",
       "  </thead>\n",
       "  <tbody>\n",
       "    <tr>\n",
       "      <th>17</th>\n",
       "      <td>Granada</td>\n",
       "      <td>604357.0</td>\n",
       "    </tr>\n",
       "  </tbody>\n",
       "</table>\n",
       "</div>"
      ],
      "text/plain": [
       "   Provincia  Poblacion\n",
       "17   Granada   604357.0"
      ]
     },
     "execution_count": 175,
     "metadata": {},
     "output_type": "execute_result"
    }
   ],
   "source": [
    "pob_prov_sort = (pob_prov\n",
    "                 .sort_values(by='Poblacion', ascending=False)\n",
    "                 .reset_index()\n",
    "                )\n",
    "pob_prov_sort.index += 1\n",
    "pob_prov_sort[pob_prov_sort.Provincia == 'Granada']"
   ]
  },
  {
   "cell_type": "markdown",
   "id": "a840c249-a006-4362-83dd-fd00586eeacb",
   "metadata": {},
   "source": [
    "#### 3. ¿Cuántos municipios de Extremadura tienen más de 5000 habitantes?."
   ]
  },
  {
   "cell_type": "code",
   "execution_count": 196,
   "id": "a3994b21-83a7-4202-9850-45acb307bac9",
   "metadata": {},
   "outputs": [
    {
     "name": "stdout",
     "output_type": "stream",
     "text": [
      "Extremadura tiene 14 municipios con más de 5,000 habitantes\n"
     ]
    }
   ],
   "source": [
    "extremadura = dataset[dataset.Provincia.isin(['Cáceres','Badajoz'])]\n",
    "print(f\"Extremadura tiene {(extremadura.Poblacion > 5e3).sum()} municipios con más de 5,000 habitantes\")"
   ]
  },
  {
   "cell_type": "markdown",
   "id": "5bc1cc63-1ccd-4b51-aef0-366586e3ab98",
   "metadata": {},
   "source": [
    "#### 4. ¿Cuál es el municipio situado más al Norte?"
   ]
  },
  {
   "cell_type": "code",
   "execution_count": 208,
   "id": "6a4e1a31-bd52-43cf-b6da-5f4c9e54e89d",
   "metadata": {},
   "outputs": [
    {
     "name": "stdout",
     "output_type": "stream",
     "text": [
      "El municipio situado más al norte es Viveiro\n",
      "Se encuentra en la Provincia de Lugo\n",
      "Cuenta con una población de 16,211 habiantes\n"
     ]
    }
   ],
   "source": [
    "northest_mun = dataset[dataset.Y == max(dataset.Y)]\n",
    "print(f\"El municipio situado más al norte es {northest_mun.Municipio.values[0]}\")\n",
    "print(f\"Se encuentra en la Provincia de {northest_mun.Provincia.values[0]}\")\n",
    "print(f\"Cuenta con una población de {int(northest_mun.Poblacion.sum()):,} habiantes\")"
   ]
  },
  {
   "cell_type": "markdown",
   "id": "18ba03e5-f2fe-4cd3-8189-3787badb0f63",
   "metadata": {},
   "source": [
    "#### 5. Obtenga la media, mediana, desviación estándar, valor máximo y valor mínimo de la población de los municipios de la provincia de Granada."
   ]
  },
  {
   "cell_type": "code",
   "execution_count": 217,
   "id": "fe0f80f4-8ad8-49dc-aa14-9b1f8d0a699c",
   "metadata": {},
   "outputs": [
    {
     "name": "stdout",
     "output_type": "stream",
     "text": [
      "Datos de la población de Granda\n",
      "--------------------------------------------------\n",
      "media_pob = 30,217.85\n",
      "mediana_pob = 17,526.00\n",
      "std_pob = 50,355.49\n",
      "max_pob = 239,154.00\n",
      "min_pob = 10,386.00\n"
     ]
    }
   ],
   "source": [
    "mun_granada = dataset[dataset.Provincia == 'Granada'][['Municipio','Poblacion']]\n",
    "media_pob = mun_granada.Poblacion.mean()\n",
    "mediana_pob = mun_granada.Poblacion.median()\n",
    "std_pob = mun_granada.Poblacion.std()\n",
    "max_pob = mun_granada.Poblacion.max()\n",
    "min_pob = mun_granada.Poblacion.min()\n",
    "print(f\"Datos de la población de Granda\\n{50*'-'}\")\n",
    "print(f\"{media_pob = :,.2f}\\n{mediana_pob = :,.2f}\\n{std_pob = :,.2f}\\n{max_pob = :,.2f}\\n{min_pob = :,.2f}\")"
   ]
  },
  {
   "cell_type": "code",
   "execution_count": null,
   "id": "901a7a1b-2e3b-4f4c-90ba-7e6efc98384a",
   "metadata": {},
   "outputs": [],
   "source": []
  },
  {
   "cell_type": "code",
   "execution_count": 112,
   "id": "211b60f3-6ac5-4d0e-af27-bbba76ad68fd",
   "metadata": {},
   "outputs": [
    {
     "name": "stderr",
     "output_type": "stream",
     "text": [
      "warning: in the working copy of '.ipynb_checkpoints/Lab3_Numpy_Pandas-checkpoint.ipynb', LF will be replaced by CRLF the next time Git touches it\n",
      "warning: in the working copy of 'Lab3_Numpy_Pandas.ipynb', LF will be replaced by CRLF the next time Git touches it\n",
      "warning: in the working copy of 'NucleosPoblacion.csv', LF will be replaced by CRLF the next time Git touches it\n"
     ]
    }
   ],
   "source": [
    "!git add ."
   ]
  },
  {
   "cell_type": "code",
   "execution_count": 116,
   "id": "787b2a39-b2be-4931-b9e0-aced8e3d8d7c",
   "metadata": {},
   "outputs": [
    {
     "name": "stdout",
     "output_type": "stream",
     "text": [
      "[feature/updates f98fc8d] Parte I\n",
      " 4 files changed, 1304 insertions(+)\n",
      " create mode 100644 .ipynb_checkpoints/Lab3_Numpy_Pandas-checkpoint.ipynb\n",
      " create mode 100644 Lab3_Numpy_Pandas.ipynb\n",
      " create mode 100644 Lab_3_Numpy_Pandas_Matplotlib.pdf\n",
      " create mode 100644 NucleosPoblacion.csv\n"
     ]
    }
   ],
   "source": [
    "!git commit -m \"Parte II\""
   ]
  },
  {
   "cell_type": "code",
   "execution_count": 117,
   "id": "c066382b-1927-45bc-9c7d-91a0d7c922d8",
   "metadata": {},
   "outputs": [
    {
     "name": "stdout",
     "output_type": "stream",
     "text": [
      "branch 'feature/updates' set up to track 'origin/feature/updates'.\n"
     ]
    },
    {
     "name": "stderr",
     "output_type": "stream",
     "text": [
      "To https://github.com/jriveramol/Lab3_Numpy_Pandas.git\n",
      "   9802ce5..f98fc8d  feature/updates -> feature/updates\n"
     ]
    }
   ],
   "source": [
    "!git push "
   ]
  },
  {
   "cell_type": "code",
   "execution_count": null,
   "id": "683a60ff-f2ec-44b0-ba4a-6ba4ac2cef1b",
   "metadata": {},
   "outputs": [],
   "source": []
  }
 ],
 "metadata": {
  "kernelspec": {
   "display_name": "Python 3 (ipykernel)",
   "language": "python",
   "name": "python3"
  },
  "language_info": {
   "codemirror_mode": {
    "name": "ipython",
    "version": 3
   },
   "file_extension": ".py",
   "mimetype": "text/x-python",
   "name": "python",
   "nbconvert_exporter": "python",
   "pygments_lexer": "ipython3",
   "version": "3.8.18"
  }
 },
 "nbformat": 4,
 "nbformat_minor": 5
}
